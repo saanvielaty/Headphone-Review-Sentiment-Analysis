{
  "nbformat": 4,
  "nbformat_minor": 0,
  "metadata": {
    "colab": {
      "provenance": [],
      "authorship_tag": "ABX9TyORJMyaTmU3yZJG205SUlWs"
    },
    "kernelspec": {
      "name": "python3",
      "display_name": "Python 3"
    },
    "language_info": {
      "name": "python"
    }
  },
  "cells": [
    {
      "cell_type": "code",
      "execution_count": 4,
      "metadata": {
        "collapsed": true,
        "id": "kOqsl-znL8kb"
      },
      "outputs": [],
      "source": [
        "import pandas as pd\n",
        "import google.generativeai as genai\n",
        "\n",
        "df = pd.read_csv('cleanedata.csv')\n",
        "\n",
        "# Replace 'your_api_key' with the actual API key\n",
        "api_key = \"Enter Gemini API Key\"\n",
        "\n",
        "# Function to analyze reviews using Gemini AI\n",
        "def analyze_reviews(reviews, api_key,prompt_message):\n",
        "    genai.configure(api_key=api_key)\n",
        "\n",
        "    model = genai.GenerativeModel(\n",
        "        model_name=\"gemini-1.5-flash\",\n",
        "        generation_config={\n",
        "            \"temperature\": 1,\n",
        "            \"top_p\": 0.95,\n",
        "            \"top_k\": 64,\n",
        "            \"max_output_tokens\": 8192,\n",
        "            \"response_mime_type\": \"text/plain\",\n",
        "        },\n",
        "    )\n",
        "\n",
        "    chat_session = model.start_chat(history=[])\n",
        "\n",
        "    prompt = prompt_message + \"\\n\\n\".join(reviews)\n",
        "    response = chat_session.send_message(prompt)\n",
        "    return response.text\n",
        "\n",
        "\n",
        "reviews_column_name = 'content'\n",
        "reviews = df[reviews_column_name].head(800).tolist()\n"
      ]
    },
    {
      "cell_type": "code",
      "source": [
        "# Prompt 1\n",
        "prompt_message = \"Based on the content of the reviews, what marketting strategies and product enhancements can be done to better Beats products\"\n",
        "insights = analyze_reviews(reviews, api_key, prompt_message)\n",
        "print(insights)"
      ],
      "metadata": {
        "id": "bcEOq_fHWJ4_",
        "colab": {
          "base_uri": "https://localhost:8080/",
          "height": 575
        },
        "outputId": "c8ea9b33-cb01-4d32-ebcf-f2110fe88055"
      },
      "execution_count": 5,
      "outputs": [
        {
          "output_type": "stream",
          "name": "stdout",
          "text": [
            "## Marketing Strategies and Product Enhancements for Beats Products\n",
            "\n",
            "Based on the reviews, here are some marketing strategies and product enhancements that could be made to improve Beats products:\n",
            "\n",
            "**Marketing Strategies:**\n",
            "\n",
            "* **Highlight Seamless Apple Integration:** Emphasize the ease of pairing and use with Apple devices, particularly for iPhone and iPad users. \n",
            "* **Target Specific User Groups:** Focus on specific user segments like fitness enthusiasts, travelers, and students, highlighting features relevant to their needs.\n",
            "* **Emphasize Value for Money:**  Promote the \"bang for your buck\" aspect of Beats products compared to pricier competitors like AirPods Max. \n",
            "* **Offer Bundles and Promotions:** Consider offering discounts, bundles with accessories, or limited edition colors to boost sales.\n",
            "* **Focus on Customer Reviews:** Utilize positive reviews in marketing materials, highlighting specific features and benefits praised by customers. \n",
            "\n",
            "**Product Enhancements:**\n",
            "\n",
            "* **Improve Comfort:** Address the common complaint of discomfort, particularly for users with larger heads or those wearing glasses. Consider redesigning the headband and earcups for better fit and pressure distribution.\n",
            "* **Enhance Noise Cancellation:** Improve the effectiveness of noise cancellation, especially for loud, low-frequency noises.\n",
            "* **Increase Volume:** Many users desire louder volume levels. This could be addressed by optimizing the drivers or adding a separate volume control knob on the headphones.\n",
            "* **Improve Microphone Quality:** Enhance the microphone for clearer calls and reduce background noise pickup. \n",
            "* **Add Features:** Consider adding features like auto-pause when headphones are removed, multiple device pairing, and custom EQ settings to rival competitors.\n",
            "* **Durable Case:**  The current case is often criticized for being too bulky and not protective enough. Offer a more durable and compact case as an option.\n",
            "* **Expand Color Options:**  Introduce more colors and colorways to appeal to different tastes.\n",
            "\n",
            "**Addressing Specific Concerns:**\n",
            "\n",
            "* **Sweaty Ears:**  Explore more breathable earcup materials to prevent excessive sweating and odor.\n",
            "* **Connectivity Issues:**  Focus on improving Bluetooth stability and connectivity, especially when switching between devices. \n",
            "* **Lack of \"Off\" Button:**  Consider adding a dedicated \"off\" button instead of relying on placing the headphones in the case to power them down.\n",
            "* **Volume Control Issues:**  Make the volume control more precise and responsive, possibly using a dial or dedicated buttons instead of touch controls. \n",
            "\n",
            "By focusing on these marketing strategies and product enhancements, Beats can address customer concerns and make their products even more appealing and competitive in the crowded headphone market. \n",
            "\n"
          ]
        }
      ]
    },
    {
      "cell_type": "code",
      "source": [
        "#Prompt 2\n",
        "prompt_message = \"Based on the content of the reviews, what features do consumers value in headphones\"\n",
        "insights = analyze_reviews(reviews, api_key, prompt_message)\n",
        "print(insights)"
      ],
      "metadata": {
        "id": "jGkeCUplWOE1",
        "colab": {
          "base_uri": "https://localhost:8080/",
          "height": 870
        },
        "outputId": "1af82751-b68a-4271-b20d-d54bd45b464f"
      },
      "execution_count": 6,
      "outputs": [
        {
          "output_type": "stream",
          "name": "stdout",
          "text": [
            "## Features Consumers Value in Headphones:\n",
            "\n",
            "Based on the reviews, consumers value the following features in headphones:\n",
            "\n",
            "**Sound Quality:**\n",
            "\n",
            "* **Clarity:** Consumers consistently praise headphones with clear, detailed sound, particularly for instrument separation.\n",
            "* **Bass:**  Strong bass, often described as \"punchy\" or \"deep\", is highly valued, especially among bass-lovers. \n",
            "* **Balance:** Many appreciate a balanced sound signature that doesn't overemphasize bass at the expense of other frequencies. \n",
            "* **Immersion:**  Spatial audio and dynamic headtracking are valued for creating an immersive listening experience.\n",
            "\n",
            "**Noise Cancellation:**\n",
            "\n",
            "* **Effectiveness:** Consumers highly prioritize headphones that effectively block out ambient noise, especially for travel and focusing.\n",
            "* **Customization:**  Adjustable noise cancellation settings, like \"transparency mode\" allowing for partial noise filtering, are appreciated.\n",
            "* **Wind Resistance:**  Headphones with strong wind resistance are favored for outdoor use.\n",
            "\n",
            "**Comfort:**\n",
            "\n",
            "* **Fit:**  Comfortable ear cups and adjustable headbands that fit various head shapes and sizes are essential for long-term wear.\n",
            "* **Pressure:** Headphones with minimal clamping pressure on the ears are preferred for comfort.\n",
            "* **Breathability:** Headphones that allow for air circulation and prevent ear heat buildup are particularly appreciated.\n",
            "\n",
            "**Connectivity:**\n",
            "\n",
            "* **Bluetooth Range:**  Strong Bluetooth connectivity with extended range is crucial for moving around freely. \n",
            "* **Multi-device Connection:**  The ability to seamlessly connect to multiple devices simultaneously is a valuable feature for many users.\n",
            "* **Ease of Pairing:** Simple and quick Bluetooth pairing is essential for a hassle-free user experience.\n",
            "\n",
            "**Battery Life:**\n",
            "\n",
            "* **Long Lasting:** Consumers highly value headphones with long battery life, often looking for 30+ hours of playtime.\n",
            "* **Fast Charging:**  Quick charging capabilities are an added bonus for convenience.\n",
            "\n",
            "**Other Features:**\n",
            "\n",
            "* **Durability:**  Consumers expect headphones to be built with durable materials that withstand regular use. \n",
            "* **Design:**  Sleek and stylish designs are appreciated, along with comfortable materials.\n",
            "* **Controls:**  Intuitive controls, either touch-sensitive or physical buttons, are valued for ease of use.\n",
            "* **Accessories:**  Included accessories like carrying cases, charging cables, and audio cables enhance convenience.\n",
            "\n",
            "**Value for Money:**\n",
            "\n",
            "* **Affordability:**  While many consumers are willing to pay for premium quality, they also appreciate headphones that offer good value for their price.\n",
            "* **Sales and Discounts:**  Taking advantage of sales and discounts is common practice to obtain high-quality headphones at a lower price. \n",
            "\n",
            "It's important to note that these are general trends based on the reviews, and individual preferences will vary. Consumers often prioritize specific features depending on their needs and usage scenarios. \n",
            "\n"
          ]
        }
      ]
    },
    {
      "cell_type": "code",
      "source": [
        "#Prompt 3\n",
        "prompt_message = \"Based on the content of the reviews, what positive attributes do Bose headphones have that beats does not\"\n",
        "insights = analyze_reviews(reviews, api_key, prompt_message)\n",
        "print(insights)"
      ],
      "metadata": {
        "id": "pyHLD0dcWr9b",
        "colab": {
          "base_uri": "https://localhost:8080/",
          "height": 193
        },
        "outputId": "e9db5dd8-a8df-4318-cbf6-93913a556463"
      },
      "execution_count": 8,
      "outputs": [
        {
          "output_type": "stream",
          "name": "stdout",
          "text": [
            "Based on the reviews, here are some positive attributes of Bose headphones that Beats headphones do not have:\n",
            "\n",
            "* **Superior noise cancellation:**  Bose headphones, particularly the QuietComfort models, are consistently praised for their effective noise cancellation capabilities. \n",
            "* **More balanced sound:** While Beats headphones are often known for their bass-heavy sound, Bose headphones are described as having a more balanced sound profile, offering clearer highs and mids.\n",
            "* **Better comfort for extended use:** Bose headphones are generally considered more comfortable for longer listening sessions, with softer ear cups and more comfortable headbands.\n",
            "* **More versatile functionality:** Some Bose models offer additional features, like the ability to use them wired or wirelessly, and more customization options through the Bose app.\n",
            "\n",
            "**Keep in mind:** The best headphones for you will depend on your individual preferences and priorities. Consider factors like sound signature, noise cancellation needs, comfort, and price before making a decision. \n",
            "\n"
          ]
        }
      ]
    },
    {
      "cell_type": "code",
      "source": [
        "#Prompt 4\n",
        "prompt_message = \"Based on the content of the reviews, what positive attributes do beats headphones have that bose does not\"\n",
        "insights = analyze_reviews(reviews, api_key, prompt_message)\n",
        "print(insights)"
      ],
      "metadata": {
        "id": "815Mjj6RW2cW",
        "colab": {
          "base_uri": "https://localhost:8080/",
          "height": 228
        },
        "outputId": "827a423a-f042-434a-cdac-2b393250eefd"
      },
      "execution_count": 9,
      "outputs": [
        {
          "output_type": "stream",
          "name": "stdout",
          "text": [
            "The reviews you provided focus on the positive attributes of Beats headphones and Apple AirPods Max, but they don't mention specific attributes that Beats have which Bose headphones don't.\n",
            "\n",
            "However, here are some general positive attributes of Beats headphones that are often mentioned, which Bose headphones may not be known for:\n",
            "\n",
            "* **Strong Bass:** Beats headphones are often known for their emphasis on bass frequencies, which is a preference for some listeners.\n",
            "* **Style and Design:** Beats headphones are often considered to have a more stylish and trendy design, appealing to a younger demographic.\n",
            "* **Integration with Apple Ecosystem:**  Beats headphones, especially those produced by Apple, integrate seamlessly with Apple devices and services.\n",
            "* **Durability:** Some users mention Beats headphones being more durable than other brands, but this is subjective and varies by model and brand.\n",
            "\n",
            "**In conclusion:** While the reviews don't directly compare Beats and Bose headphones, they highlight the strong bass and stylish design of Beats, which are often mentioned as reasons to choose them over other brands. Remember, your preference for headphones ultimately comes down to your personal needs, listening style, and budget. \n",
            "\n"
          ]
        }
      ]
    }
  ]
}